{
 "cells": [
  {
   "cell_type": "code",
   "execution_count": 2,
   "metadata": {},
   "outputs": [],
   "source": [
    "import json\n",
    "import random\n",
    "import pandas as pd\n",
    "from tqdm import tqdm\n",
    "from web3 import Web3\n",
    "import time\n",
    "import numpy as np\n",
    "import matplotlib.cbook as cbook\n",
    "import matplotlib.pyplot as plt\n"
   ]
  },
  {
   "cell_type": "code",
   "execution_count": 4,
   "metadata": {},
   "outputs": [
    {
     "name": "stdout",
     "output_type": "stream",
     "text": [
      "True\n"
     ]
    }
   ],
   "source": [
    "#connecting to blockchain(Ganache)\n",
    "web3 = Web3(Web3.HTTPProvider('HTTP://127.0.0.1:7545'))\n",
    "print(web3.isConnected())"
   ]
  },
  {
   "cell_type": "code",
   "execution_count": 68,
   "metadata": {},
   "outputs": [
    {
     "data": {
      "text/plain": [
       "{'A1': '0x5e48d4446028bbBD50558cB8aBE085Bb403f9911',\n",
       " 'A2': '0x8730A8e30310809Ed2B9088B37a6F461Adb579f7',\n",
       " 'A3': '0xaF962F5867E9e206d92d60b99ce047f96E64C4C5',\n",
       " 'A4': '0x678A0BC3FC1E620c34Dfc14279A80CAD1B956542'}"
      ]
     },
     "execution_count": 68,
     "metadata": {},
     "output_type": "execute_result"
    }
   ],
   "source": [
    "accounts_list = web3.eth.accounts\n",
    "GRID_accounts = {}\n",
    "\n",
    "#Making Dictionary\n",
    "for i in range(1,len(accounts_list)):\n",
    "    GRID_accounts['A'+str(i)] = accounts_list[i]\n",
    "GRID_accounts"
   ]
  },
  {
   "cell_type": "code",
   "execution_count": 88,
   "metadata": {},
   "outputs": [
    {
     "name": "stdout",
     "output_type": "stream",
     "text": [
      "1046\n"
     ]
    }
   ],
   "source": [
    "#latest block height\n",
    "current_height = web3.eth.getBlock('latest').number\n",
    "print(current_height)"
   ]
  },
  {
   "cell_type": "markdown",
   "metadata": {},
   "source": [
    "# Plots"
   ]
  },
  {
   "cell_type": "markdown",
   "metadata": {},
   "source": [
    "### 1. Amount of Gas Spent"
   ]
  },
  {
   "cell_type": "markdown",
   "metadata": {},
   "source": [
    "#### 1.1. Deploying Contract"
   ]
  },
  {
   "cell_type": "code",
   "execution_count": 161,
   "metadata": {},
   "outputs": [],
   "source": [
    "transaction_migrate_gasUsed = web3.eth.getBlock(1)['gasUsed']\n",
    "transaction_firstContract_gasUsed = web3.eth.getBlock(3)['gasUsed']\n",
    "transaction_secondContract_gasUsed = web3.eth.getBlock(5)['gasUsed']"
   ]
  },
  {
   "cell_type": "code",
   "execution_count": 162,
   "metadata": {},
   "outputs": [
    {
     "data": {
      "image/png": "[encoded data removed]",
      "text/plain": [
       "<Figure size 432x288 with 1 Axes>"
      ]
     },
     "metadata": {
      "needs_background": "light"
     },
     "output_type": "display_data"
    }
   ],
   "source": [
    "fig = plt.figure()\n",
    "ax = fig.add_axes([0,0,1,1])\n",
    "bar_tick_label = ['Migratrion', 'Connections', 'DataPassing']\n",
    "langs = ['Migratrion', 'Connections', 'DataPassing']\n",
    "students = [transaction_migrate_gasUsed,transaction_firstContract_gasUsed,transaction_secondContract_gasUsed]\n",
    "bar_plot = plt.bar(langs,students,tick_label=bar_tick_label)\n",
    "bar_label = students\n",
    "\n",
    "def autolabel(rects):\n",
    "    for idx,rect in enumerate(bar_plot):\n",
    "        height = rect.get_height()\n",
    "        ax.text(rect.get_x() + rect.get_width()/2., 1.05*height,\n",
    "                bar_label[idx],\n",
    "                ha='center', va='bottom', rotation=0)\n",
    "        \n",
    "autolabel(students)\n",
    "\n",
    "ax.bar(langs,students)\n",
    "plt.show()"
   ]
  },
  {
   "cell_type": "markdown",
   "metadata": {},
   "source": [
    "#### 1.2. Making Transactions"
   ]
  },
  {
   "cell_type": "code",
   "execution_count": 164,
   "metadata": {},
   "outputs": [],
   "source": [
    "gas_spent_A1 = [web3.eth.getBlock(i)['gasUsed'] for i in range(1,current_height) if (web3.eth.getTransaction(web3.eth.getBlock(i)['transactions'][0])['from']==GRID_accounts['A1'])]\n",
    "gas_spent_A2 = [web3.eth.getBlock(i)['gasUsed'] for i in range(1,current_height) if (web3.eth.getTransaction(web3.eth.getBlock(i)['transactions'][0])['from']==GRID_accounts['A2'])]\n",
    "gas_spent_A3 = [web3.eth.getBlock(i)['gasUsed'] for i in range(1,current_height) if (web3.eth.getTransaction(web3.eth.getBlock(i)['transactions'][0])['from']==GRID_accounts['A3'])]\n",
    "gas_spent_A4 = [web3.eth.getBlock(i)['gasUsed'] for i in range(1,current_height) if (web3.eth.getTransaction(web3.eth.getBlock(i)['transactions'][0])['from']==GRID_accounts['A4'])]"
   ]
  },
  {
   "cell_type": "code",
   "execution_count": 165,
   "metadata": {},
   "outputs": [
    {
     "data": {
      "image/png": "[encoded data removed]",
      "text/plain": [
       "<Figure size 432x288 with 1 Axes>"
      ]
     },
     "metadata": {
      "needs_background": "light"
     },
     "output_type": "display_data"
    }
   ],
   "source": [
    "#plotting Total spending\n",
    "gas_spent_A1_total = sum(gas_spent_A1)\n",
    "gas_spent_A2_total = sum(gas_spent_A2)\n",
    "gas_spent_A3_total = sum(gas_spent_A3)\n",
    "gas_spent_A4_total = sum(gas_spent_A4)\n",
    "\n",
    "total_gas_per_grid = [gas_spent_A1_total,gas_spent_A2_total,gas_spent_A3_total,gas_spent_A4_total]\n",
    "\n",
    "fig = plt.figure()\n",
    "ax = fig.add_axes([0,0,1,1])\n",
    "bar_tick_label = ['A1', 'A2', 'A3', 'A4']\n",
    "langs = ['A1', 'A2', 'A3', 'A4']\n",
    "students = total_gas_per_grid\n",
    "bar_plot = plt.bar(langs,students,tick_label=bar_tick_label)\n",
    "bar_label = students\n",
    "\n",
    "def autolabel(rects):\n",
    "    for idx,rect in enumerate(bar_plot):\n",
    "        height = rect.get_height()\n",
    "        ax.text(rect.get_x() + rect.get_width()/2., 1.05*height,\n",
    "                bar_label[idx],\n",
    "                ha='center', va='bottom', rotation=0)\n",
    "        \n",
    "autolabel(students)\n",
    "\n",
    "ax.bar(langs,students)\n",
    "plt.show()"
   ]
  },
  {
   "cell_type": "code",
   "execution_count": 166,
   "metadata": {},
   "outputs": [],
   "source": [
    "gas_spent_A1_per_tx = [(gas_spent_A1[i] + gas_spent_A1[i+1]) for i in range(0,len(gas_spent_A1),2)]\n",
    "gas_spent_A2_per_tx = [(gas_spent_A2[i] + gas_spent_A2[i+1]) for i in range(0,len(gas_spent_A2),2)]\n",
    "gas_spent_A3_per_tx = [(gas_spent_A3[i] + gas_spent_A3[i+1]) for i in range(0,len(gas_spent_A3),2)]\n",
    "gas_spent_A4_per_tx = [(gas_spent_A4[i] + gas_spent_A4[i+1]) for i in range(0,len(gas_spent_A4),2)]"
   ]
  },
  {
   "cell_type": "code",
   "execution_count": 169,
   "metadata": {},
   "outputs": [
    {
     "data": {
      "image/png": "[encoded data removed]",
      "text/plain": [
       "<Figure size 432x288 with 1 Axes>"
      ]
     },
     "metadata": {
      "needs_background": "light"
     },
     "output_type": "display_data"
    }
   ],
   "source": [
    "#plot of gas spent per transaction\n",
    "first = gas_spent_A1_per_tx\n",
    "second = gas_spent_A2_per_tx\n",
    "third = gas_spent_A3_per_tx\n",
    "fourth = gas_spent_A4_per_tx\n",
    "\n",
    "\n",
    "plt.plot(first)\n",
    "plt.plot(second)\n",
    "plt.plot(third)\n",
    "plt.plot(fourth)\n",
    "plt.show()"
   ]
  },
  {
   "cell_type": "code",
   "execution_count": 170,
   "metadata": {},
   "outputs": [
    {
     "data": {
      "text/plain": [
       "[75464,\n",
       " 76532,\n",
       " 76772,\n",
       " 76736,\n",
       " 76748,\n",
       " 76712,\n",
       " 76712,\n",
       " 76700,\n",
       " 76712,\n",
       " 76712,\n",
       " 76724,\n",
       " 76700,\n",
       " 76700,\n",
       " 76688,\n",
       " 76736,\n",
       " 76688,\n",
       " 76748,\n",
       " 76736,\n",
       " 76712,\n",
       " 76712,\n",
       " 76712,\n",
       " 76712,\n",
       " 76748,\n",
       " 76736,\n",
       " 76688,\n",
       " 76640,\n",
       " 76724,\n",
       " 76712,\n",
       " 76664,\n",
       " 76760,\n",
       " 76736,\n",
       " 76700,\n",
       " 76688,\n",
       " 76712,\n",
       " 76748,\n",
       " 76676,\n",
       " 76724,\n",
       " 76688,\n",
       " 76700,\n",
       " 76784,\n",
       " 76712,\n",
       " 76712,\n",
       " 76688,\n",
       " 76736,\n",
       " 76700,\n",
       " 76736,\n",
       " 76712,\n",
       " 76712,\n",
       " 76664,\n",
       " 76676,\n",
       " 76688,\n",
       " 76700,\n",
       " 76700,\n",
       " 76688,\n",
       " 76712,\n",
       " 76700,\n",
       " 76712,\n",
       " 76712,\n",
       " 76712,\n",
       " 76664,\n",
       " 76712,\n",
       " 76652,\n",
       " 76664,\n",
       " 76688,\n",
       " 76688,\n",
       " 76640,\n",
       " 76676,\n",
       " 76688,\n",
       " 76664,\n",
       " 76652,\n",
       " 76688,\n",
       " 76664,\n",
       " 76676,\n",
       " 76628,\n",
       " 76688,\n",
       " 76664,\n",
       " 76664,\n",
       " 76688,\n",
       " 76664,\n",
       " 76664,\n",
       " 76664,\n",
       " 76664,\n",
       " 76676,\n",
       " 76676,\n",
       " 76688,\n",
       " 76664,\n",
       " 76616,\n",
       " 76652,\n",
       " 76712,\n",
       " 76628,\n",
       " 76688,\n",
       " 76664,\n",
       " 76664,\n",
       " 76628,\n",
       " 76712,\n",
       " 76676,\n",
       " 76688,\n",
       " 76664,\n",
       " 76664,\n",
       " 76664,\n",
       " 76712,\n",
       " 76640,\n",
       " 76652,\n",
       " 76616,\n",
       " 76652,\n",
       " 76664,\n",
       " 76640,\n",
       " 76688,\n",
       " 76652,\n",
       " 76628,\n",
       " 76712,\n",
       " 76652,\n",
       " 76688,\n",
       " 76760,\n",
       " 76724,\n",
       " 76640,\n",
       " 76700,\n",
       " 76736,\n",
       " 76640,\n",
       " 76712,\n",
       " 76652,\n",
       " 76616,\n",
       " 76664,\n",
       " 76652,\n",
       " 76688,\n",
       " 76688,\n",
       " 76652,\n",
       " 76628]"
      ]
     },
     "execution_count": 170,
     "metadata": {},
     "output_type": "execute_result"
    }
   ],
   "source": [
    "gas_spent_A1_per_tx\n",
    "#curve because there is little gas spent"
   ]
  },
  {
   "cell_type": "markdown",
   "metadata": {},
   "source": [
    "### Mean and stdDiv plot"
   ]
  },
  {
   "cell_type": "code",
   "execution_count": 241,
   "metadata": {},
   "outputs": [],
   "source": [
    "\n",
    "'''\n",
    "These are two functions which will be used to establish/destablish connection between GRID,\n",
    "based on this we will add/remove connection in GRID)connections e.g. A1-A2, A1-A3, etc.\n",
    "\n",
    "And also it will be used to transact on the blockchain, which will record the connections and disconnections\n",
    "'''\n",
    "\n",
    "def establish_connection(from_,to_):\n",
    "    #adding connections to GRID_connections set.\n",
    "    try:\n",
    "        GRID_connections.add(from_ +'-'+ to_)\n",
    "        #Interacting with blockchain to transact (enableConnections).\n",
    "        contract_MappingAddressConnection.functions.enableConnections(from_,to_).transact({'from':accounts_list[0]})\n",
    "        return \"Connection Establihed\"\n",
    "    except :\n",
    "        return \"Connection Already Exists\"\n",
    "        #later try except Exception as error to read from response\n",
    "\n",
    "def destablish_connection(from_,to_):\n",
    "    #removing connections from GRID_connections set.\n",
    "\n",
    "    try:\n",
    "        GRID_connections.remove(from_ +'-'+ to_)\n",
    "        #Interacting with blockchain to transact.\n",
    "        contract_MappingAddressConnection.functions.disableConnections(from_,to_).transact({'from':accounts_list[0]})\n",
    "        return \"Connection Destablished\"\n",
    "    except :\n",
    "        return \"No connection exists to disconnect\"\n",
    "\n",
    "def dataFrame_to_Dict(data):\n",
    "    #data_dictionary = {}\n",
    "    data_list = []\n",
    "    for i,j in data.iteritems():\n",
    "        dict_j = []\n",
    "        for z in j:\n",
    "            dict_j.append(str(z))\n",
    "        #data_dictionary[str(i)] = dict_j\n",
    "        data_list.append(dict_j)\n",
    "    #return data_dictionary\n",
    "    return data_list\n",
    "\n",
    "def data_transaction(sender,receiver,iteration,amount):\n",
    "        #print(sender,receiver,iteration,amount)\n",
    "        try:\n",
    "            contract_passingArbitraryArguments.functions.passingValues(sender,receiver,iteration,amount).transact({'from':sender})\n",
    "            return \"OKo!\"\n",
    "        except:\n",
    "            return \"No connection\""
   ]
  },
  {
   "cell_type": "code",
   "execution_count": 232,
   "metadata": {},
   "outputs": [],
   "source": [
    "all_iteration_mean = []\n",
    "all_iteration_std_div = []"
   ]
  },
  {
   "cell_type": "code",
   "execution_count": 258,
   "metadata": {},
   "outputs": [],
   "source": [
    "#max_iteration = [0,1,7,15,31,63,127]\n",
    "max_iteration_number = 127"
   ]
  },
  {
   "cell_type": "code",
   "execution_count": 259,
   "metadata": {},
   "outputs": [
    {
     "data": {
      "text/plain": [
       "'Connection Destablished'"
      ]
     },
     "execution_count": 259,
     "metadata": {},
     "output_type": "execute_result"
    }
   ],
   "source": [
    "\n",
    "#Establising Connections on blockchain\n",
    "\n",
    "accounts_list = web3.eth.accounts\n",
    "\n",
    "#from index 1 to index 4, they will represent each GRID, so mapping them to regions A1, A2, A3, A4 resp.\n",
    "GRID_accounts = {}\n",
    "GRID_connections = set()\n",
    "\n",
    "#Making Dictionary\n",
    "for i in range(1,len(accounts_list)):\n",
    "    GRID_accounts['A'+str(i)] = accounts_list[i]\n",
    "\n",
    "#First CONTRACT Deployment\n",
    "with open('build/contracts/MappingAddressConnection.json') as f:\n",
    "  first_migration = json.load(f)\n",
    "\n",
    "first_migration_contract_address = first_migration['networks']['5777']['address']\n",
    "first_migration_abi = first_migration['abi']\n",
    "contract_MappingAddressConnection = web3.eth.contract(address=first_migration_contract_address, abi = first_migration_abi)\n",
    "\n",
    "#Adding connections\n",
    "establish_connection(GRID_accounts['A1'],GRID_accounts['A2'])\n",
    "establish_connection(GRID_accounts['A1'],GRID_accounts['A3'])\n",
    "establish_connection(GRID_accounts['A2'],GRID_accounts['A1'])\n",
    "establish_connection(GRID_accounts['A2'],GRID_accounts['A4'])\n",
    "establish_connection(GRID_accounts['A3'],GRID_accounts['A1'])\n",
    "establish_connection(GRID_accounts['A3'],GRID_accounts['A4'])\n",
    "establish_connection(GRID_accounts['A4'],GRID_accounts['A2'])\n",
    "establish_connection(GRID_accounts['A4'],GRID_accounts['A3'])\n",
    "\n",
    "A1_A2 = pd.read_csv('../Seperated_Excel_WD/A1_A2.csv', header=None)\n",
    "A1_A3 = pd.read_csv('../Seperated_Excel_WD/A1_A3.csv', header=None)\n",
    "A2_A1 = pd.read_csv('../Seperated_Excel_WD/A2_A1.csv', header=None)\n",
    "A2_A4 = pd.read_csv('../Seperated_Excel_WD/A2_A4.csv', header=None)\n",
    "A3_A1 = pd.read_csv('../Seperated_Excel_WD/A3_A1.csv', header=None)\n",
    "A3_A4 = pd.read_csv('../Seperated_Excel_WD/A3_A4.csv', header=None)\n",
    "A4_A2 = pd.read_csv('../Seperated_Excel_WD/A4_A2.csv', header=None)\n",
    "A4_A3 = pd.read_csv('../Seperated_Excel_WD/A4_A3.csv', header=None)\n",
    "\n",
    "#Importing CSV\n",
    "#interating through data and putting in dictionary\n",
    "data_A1_A2 = dataFrame_to_Dict(A1_A2)\n",
    "data_A1_A3 = dataFrame_to_Dict(A1_A3)\n",
    "data_A2_A1 = dataFrame_to_Dict(A2_A1)\n",
    "data_A2_A4 = dataFrame_to_Dict(A2_A4)\n",
    "data_A3_A1 = dataFrame_to_Dict(A3_A1)\n",
    "data_A3_A4 = dataFrame_to_Dict(A3_A4)\n",
    "data_A4_A2 = dataFrame_to_Dict(A4_A2)\n",
    "data_A4_A3 = dataFrame_to_Dict(A4_A3)\n",
    "\n",
    "#Data connection set:\n",
    "GRID_Connections = {'A1_A2' : data_A1_A2,\n",
    "                    'A1_A3' : data_A1_A3,\n",
    "                    'A2_A1' : data_A2_A1,\n",
    "                    'A2_A4' : data_A2_A4,\n",
    "                    'A3_A1' : data_A3_A1,\n",
    "                    'A3_A4' : data_A3_A4,\n",
    "                    'A4_A2' : data_A4_A2,\n",
    "                    'A4_A3' : data_A4_A3\n",
    "                   }\n",
    "#Second CONTRACT Deployment\n",
    "with open('build/contracts/passingArbitraryArguments.json') as f:\n",
    "  second_migration = json.load(f)\n",
    "\n",
    "second_migration_contract_address = second_migration['networks']['5777']['address']\n",
    "second_migration_abi = second_migration['abi']\n",
    "\n",
    "contract_passingArbitraryArguments = web3.eth.contract(address=second_migration_contract_address, abi = second_migration_abi)\n",
    "\n",
    "counter = 0\n",
    "processing = True\n",
    "max_iteration = 0\n",
    "while processing and max_iteration != max_iteration_number+1:\n",
    "    for key in GRID_Connections.keys():\n",
    "        try:\n",
    "            sender, receiver = key.split(\"_\")\n",
    "            payload = GRID_Connections[key][counter]\n",
    "\n",
    "            #print(data_transaction(GRID_accounts[sender],GRID_accounts[receiver],counter,payload))\n",
    "            data_transaction(GRID_accounts[sender],GRID_accounts[receiver],counter,payload)\n",
    "#                 print(f'''\n",
    "#                 sender  : {sender}\n",
    "#                 receiver: {receiver}\n",
    "#                 counter : {counter}\n",
    "#                 payload : {payload}\n",
    "#                 ''')\n",
    "        except IndexError:\n",
    "            processing = False\n",
    "            break\n",
    "    counter += 1\n",
    "    max_iteration += 1\n",
    "\n",
    "destablish_connection(GRID_accounts['A1'],GRID_accounts['A2'])\n",
    "destablish_connection(GRID_accounts['A1'],GRID_accounts['A3'])\n",
    "destablish_connection(GRID_accounts['A2'],GRID_accounts['A1'])\n",
    "destablish_connection(GRID_accounts['A2'],GRID_accounts['A4'])\n",
    "destablish_connection(GRID_accounts['A3'],GRID_accounts['A1'])\n",
    "destablish_connection(GRID_accounts['A3'],GRID_accounts['A4'])\n",
    "destablish_connection(GRID_accounts['A4'],GRID_accounts['A2'])\n",
    "destablish_connection(GRID_accounts['A4'],GRID_accounts['A3'])"
   ]
  },
  {
   "cell_type": "code",
   "execution_count": 260,
   "metadata": {},
   "outputs": [
    {
     "name": "stdout",
     "output_type": "stream",
     "text": [
      "0\n",
      "1\n",
      "2\n",
      "3\n",
      "4\n",
      "5\n",
      "6\n",
      "7\n",
      "8\n",
      "9\n",
      "10\n",
      "11\n",
      "12\n",
      "13\n",
      "14\n",
      "15\n",
      "16\n",
      "17\n",
      "18\n",
      "19\n",
      "20\n",
      "21\n",
      "22\n",
      "23\n",
      "24\n",
      "25\n",
      "26\n",
      "27\n",
      "28\n",
      "29\n",
      "30\n",
      "31\n",
      "32\n",
      "33\n",
      "34\n",
      "35\n",
      "36\n",
      "37\n",
      "38\n",
      "39\n",
      "40\n",
      "41\n",
      "42\n",
      "43\n",
      "44\n",
      "45\n",
      "46\n",
      "47\n",
      "48\n",
      "49\n",
      "50\n",
      "51\n",
      "52\n",
      "53\n",
      "54\n",
      "55\n",
      "56\n",
      "57\n",
      "58\n",
      "59\n",
      "60\n",
      "61\n",
      "62\n",
      "63\n",
      "64\n",
      "65\n",
      "66\n",
      "67\n",
      "68\n",
      "69\n",
      "70\n",
      "71\n",
      "72\n",
      "73\n",
      "74\n",
      "75\n",
      "76\n",
      "77\n",
      "78\n",
      "79\n",
      "80\n",
      "81\n",
      "82\n",
      "83\n",
      "84\n",
      "85\n",
      "86\n",
      "87\n",
      "88\n",
      "89\n",
      "90\n",
      "91\n",
      "92\n",
      "93\n",
      "94\n",
      "95\n",
      "96\n",
      "97\n",
      "98\n",
      "99\n",
      "100\n",
      "101\n",
      "102\n",
      "103\n",
      "104\n",
      "105\n",
      "106\n",
      "107\n",
      "108\n",
      "109\n",
      "110\n",
      "111\n",
      "112\n",
      "113\n",
      "114\n",
      "115\n",
      "116\n",
      "117\n",
      "118\n",
      "119\n",
      "120\n",
      "121\n",
      "122\n",
      "123\n",
      "124\n",
      "125\n",
      "126\n",
      "127\n",
      " 0.47007624711841345\n",
      "0.47007624711841345\n",
      "0.04709999095178139\n"
     ]
    }
   ],
   "source": [
    "def time_calculation(from_,to_,iteration_number):\n",
    "    #retruns time\n",
    "    start_time = time.time()\n",
    "    event_filter = contract_passingArbitraryArguments.events.NewTrade.createFilter(fromBlock=0,toBlock = 'latest',argument_filters={\"_from\":accounts_list[from_],\"to\": accounts_list[to_],\"iteration\":iteration_number})\n",
    "    event_filter.get_all_entries()\n",
    "    end_time = time.time()\n",
    "    return (end_time-start_time)\n",
    "    #return event_filter.get_all_entries()\n",
    "\n",
    "average_of_all_grid_iteration_time = []\n",
    "y_max_list = []\n",
    "y_min_list = []\n",
    "\n",
    "#time to retrieve data (filtering:)\n",
    "for i in range(max_iteration):\n",
    "    print(i)\n",
    "    \n",
    "    iter_1 = time_calculation(1,2,i)\n",
    "    #print(iter_1)\n",
    "    average_of_all_grid_iteration_time.append(iter_1)\n",
    "    \n",
    "    iter_2 = time_calculation(1,3,i)\n",
    "    #print(iter_2)\n",
    "    average_of_all_grid_iteration_time.append(iter_2)\n",
    "    \n",
    "    iter_3 = time_calculation(2,1,i)\n",
    "    #print(iter_3)\n",
    "    average_of_all_grid_iteration_time.append(iter_3)\n",
    "    \n",
    "    iter_4 = time_calculation(2,4,i)\n",
    "    #print(iter_4)\n",
    "    average_of_all_grid_iteration_time.append(iter_4)\n",
    "    \n",
    "    iter_5 = time_calculation(3,1,i)\n",
    "    #print(iter_5)\n",
    "    average_of_all_grid_iteration_time.append(iter_5)\n",
    "    \n",
    "    iter_6 = time_calculation(3,4,i)\n",
    "    #print(iter_6)\n",
    "    average_of_all_grid_iteration_time.append(iter_6)\n",
    "    \n",
    "    iter_7 = time_calculation(4,2,i)\n",
    "    #print(iter_7)\n",
    "    average_of_all_grid_iteration_time.append(iter_7)\n",
    "    \n",
    "    iter_8 = time_calculation(4,3,i)\n",
    "    #print(iter_8)\n",
    "    average_of_all_grid_iteration_time.append(iter_8)\n",
    "    #print()\n",
    "    \n",
    "average_time_of_iteration = np.mean(average_of_all_grid_iteration_time)\n",
    "std_time = np.std(average_of_all_grid_iteration_time)\n",
    "\n",
    "print(\"\", average_time_of_iteration)\n",
    "print(np.mean(average_of_all_grid_iteration_time))\n",
    "print(std_time)\n",
    "\n",
    "all_iteration_mean.append(average_time_of_iteration)\n",
    "all_iteration_std_div.append(std_time)"
   ]
  },
  {
   "cell_type": "code",
   "execution_count": 287,
   "metadata": {},
   "outputs": [
    {
     "name": "stdout",
     "output_type": "stream",
     "text": [
      "all_iteration_mean [0.021282613277435303, 0.037127673625946045, 0.0582527220249176, 0.09043256379663944, 0.15741457417607307, 0.2867204640060663, 0.47007624711841345]\n",
      "all_iteration_std_div [0.0047442737822862265, 0.008648289174547961, 0.012631670041776955, 0.02012652233981228, 0.021825744948844955, 0.02158548965095472, 0.04709999095178139]\n"
     ]
    }
   ],
   "source": [
    "print('all_iteration_mean',all_iteration_mean)\n",
    "print('all_iteration_std_div',all_iteration_std_div)"
   ]
  },
  {
   "cell_type": "code",
   "execution_count": 297,
   "metadata": {},
   "outputs": [
    {
     "data": {
      "image/png": "[encoded data removed]",
      "text/plain": [
       "<Figure size 432x288 with 1 Axes>"
      ]
     },
     "metadata": {
      "needs_background": "light"
     },
     "output_type": "display_data"
    }
   ],
   "source": [
    "y_axis = np.array(all_iteration_mean)\n",
    "x_axis = np.array([0,1,7,15,31,63,127])\n",
    "plt.plot(x_axis,y_axis,'o-',color='Black')\n",
    "plt.yscale('log')\n",
    "plt.fill_between(x_axis, y_axis - all_iteration_std_div , y_axis + all_iteration_std_div, color='red', alpha=0.2)\n",
    "plt.title('title name')\n",
    "plt.ylabel('xAxis name')\n",
    "plt.ylabel('yAxis name')\n",
    "plt.show()\n",
    "#Gas per payload(byte(s))"
   ]
  },
  {
   "cell_type": "code",
   "execution_count": 185,
   "metadata": {},
   "outputs": [
    {
     "name": "stdout",
     "output_type": "stream",
     "text": [
      "[AttributeDict({'args': AttributeDict({'_from': '0x9aD2B168758cC2b54FBE2D09065c63E1CD50c4CA', 'to': '0x430F64641A78E6eE11fd6dBAEF84137CB59C95a6', 'iteration': 2, 'amount': ['0.000153264985104455', '0.000153264985104455', '0.9945018013658761', '0.9945018013658761']}), 'event': 'NewTrade', 'logIndex': 0, 'transactionIndex': 0, 'transactionHash': HexBytes('0x3088c5104ed960a94f0be1047a3197e7a04563cca588715e87864152080f785b'), 'address': '0xdAEa05CFd300D3dc89cd4A240Cb8b4712CDdbcd2', 'blockHash': HexBytes('0x165c923bb69c8389c47311d57e93e571c74d1565110c0f48cc9f81e050415ab9'), 'blockNumber': 31})]\n"
     ]
    }
   ],
   "source": [
    "event_filter = contract_passingArbitraryArguments.events.NewTrade.createFilter(fromBlock=0,toBlock = 'latest',argument_filters={\"_from\":accounts_list[1],\"to\": accounts_list[2],\"iteration\":2})\n",
    "print(event_filter.get_all_entries())"
   ]
  },
  {
   "cell_type": "code",
   "execution_count": null,
   "metadata": {},
   "outputs": [],
   "source": []
  },
  {
   "cell_type": "code",
   "execution_count": null,
   "metadata": {},
   "outputs": [],
   "source": []
  },
  {
   "cell_type": "code",
   "execution_count": 226,
   "metadata": {},
   "outputs": [],
   "source": [
    "# def time_calculation(from_,to_,iteration_number):\n",
    "#     start_time = time.time()\n",
    "#     event_filter = contract_passingArbitraryArguments.events.NewTrade.createFilter(fromBlock=0,toBlock = 'latest',argument_filters={\"_from\":accounts_list[from_],\"to\": accounts_list[to_],\"iteration\":iteration_number})\n",
    "#     event_filter.get_all_entries()\n",
    "#     end_time = time.time()\n",
    "#     return (end_time-start_time)\n",
    "#     #return event_filter.get_all_entries()\n",
    "\n",
    "# average_iteration_time_of_rounds = []\n",
    "# y_max_list = []\n",
    "# y_min_list = []\n",
    "\n",
    "# #time to retrieve data (filtering:)\n",
    "# for i in range(max_iteration):\n",
    "#     print(i)\n",
    "    \n",
    "#     iter_1 = time_calculation(1,2,i)\n",
    "#     print(iter_1)\n",
    "#     average_of_all_grid_iteration_time.append(iter_1)\n",
    "#     iter_2 = time_calculation(1,3,i)\n",
    "#     print(iter_2)\n",
    "#     average_of_all_grid_iteration_time.append(iter_2)\n",
    "#     iter_3 = time_calculation(2,1,i)\n",
    "#     print(iter_3)\n",
    "#     average_of_all_grid_iteration_time.append(iter_3)\n",
    "#     iter_4 = time_calculation(2,4,i)\n",
    "#     print(iter_4)\n",
    "#     average_of_all_grid_iteration_time.append(iter_4)\n",
    "#     iter_5 = time_calculation(3,1,i)\n",
    "#     print(iter_5)\n",
    "#     average_of_all_grid_iteration_time.append(iter_5)\n",
    "#     iter_6 = time_calculation(3,4,i)\n",
    "#     print(iter_6)\n",
    "#     average_of_all_grid_iteration_time.append(iter_6)\n",
    "#     iter_7 = time_calculation(4,2,i)\n",
    "#     print(iter_7)\n",
    "#     average_of_all_grid_iteration_time.append(iter_7)\n",
    "#     iter_8 = time_calculation(4,3,i)\n",
    "#     print(iter_8)\n",
    "#     average_of_all_grid_iteration_time.append(iter_8)\n",
    "#     print()\n",
    "    \n",
    "#     average_time_of_iteration = (iter_1+iter_2+iter_3+iter_4+iter_5+iter_6+iter_7+iter_8)/8\n",
    "#     y_max = max([iter_1,iter_2,iter_3,iter_4,iter_5,iter_6,iter_7,iter_8])\n",
    "#     y_max_list.append(y_max)\n",
    "#     y_min = min([iter_1,iter_2,iter_3,iter_4,iter_5,iter_6,iter_7,iter_8])\n",
    "#     y_min_list.append(y_min)\n",
    "    \n",
    "#     print(average_time_of_iteration)\n",
    "#     average_iteration_time_of_rounds.append(average_time_of_iteration)\n",
    "\n",
    "# print(y_max_list)\n",
    "# print(average_iteration_time_of_rounds)\n",
    "# print(y_min_list)\n",
    "\n",
    "#     #A1-A2\n",
    "#     event_filter = contract_passingArbitraryArguments.events.NewTrade.createFilter(fromBlock=0,toBlock = 'latest',argument_filters={\"_from\":accounts_list[1],\"to\": accounts_list[2],\"iteration\":i})\n",
    "#     print(event_filter.get_all_entries())\n",
    "#     print()\n",
    "#     #A1-A3\n",
    "#     event_filter = contract_passingArbitraryArguments.events.NewTrade.createFilter(fromBlock=0,toBlock = 'latest',argument_filters={\"_from\":accounts_list[1],\"to\": accounts_list[3],\"iteration\":i})\n",
    "#     print(event_filter.get_all_entries())\n",
    "#     print()\n",
    "\n",
    "#     #A2-A1\n",
    "#     event_filter = contract_passingArbitraryArguments.events.NewTrade.createFilter(fromBlock=0,toBlock = 'latest',argument_filters={\"_from\":accounts_list[2],\"to\": accounts_list[1],\"iteration\":i})\n",
    "#     print(event_filter.get_all_entries())\n",
    "#     print()\n",
    "\n",
    "#     #A2-A4\n",
    "#     event_filter = contract_passingArbitraryArguments.events.NewTrade.createFilter(fromBlock=0,toBlock = 'latest',argument_filters={\"_from\":accounts_list[2],\"to\": accounts_list[4],\"iteration\":i})\n",
    "#     print(event_filter.get_all_entries())\n",
    "#     print()\n",
    "\n",
    "#     #A3-A1\n",
    "#     event_filter = contract_passingArbitraryArguments.events.NewTrade.createFilter(fromBlock=0,toBlock = 'latest',argument_filters={\"_from\":accounts_list[3],\"to\": accounts_list[1],\"iteration\":i})\n",
    "#     print(event_filter.get_all_entries())\n",
    "#     print()\n",
    "\n",
    "#     #A3-A4\n",
    "#     event_filter = contract_passingArbitraryArguments.events.NewTrade.createFilter(fromBlock=0,toBlock = 'latest',argument_filters={\"_from\":accounts_list[3],\"to\": accounts_list[4],\"iteration\":i})\n",
    "#     print(event_filter.get_all_entries())\n",
    "#     print()    \n",
    "\n",
    "#     #A4-A2\n",
    "#     event_filter = contract_passingArbitraryArguments.events.NewTrade.createFilter(fromBlock=0,toBlock = 'latest',argument_filters={\"_from\":accounts_list[4],\"to\": accounts_list[2],\"iteration\":i})\n",
    "#     print(event_filter.get_all_entries())\n",
    "#     print()\n",
    "\n",
    "#     #A4-A3\n",
    "#     event_filter = contract_passingArbitraryArguments.events.NewTrade.createFilter(fromBlock=0,toBlock = 'latest',argument_filters={\"_from\":accounts_list[4],\"to\": accounts_list[3],\"iteration\":i})\n",
    "#     print(event_filter.get_all_entries())\n",
    "#     print()"
   ]
  },
  {
   "cell_type": "code",
   "execution_count": null,
   "metadata": {},
   "outputs": [],
   "source": []
  }
 ],
 "metadata": {
  "kernelspec": {
   "display_name": "Python 3",
   "language": "python",
   "name": "python3"
  },
  "language_info": {
   "codemirror_mode": {
    "name": "ipython",
    "version": 3
   },
   "file_extension": ".py",
   "mimetype": "text/x-python",
   "name": "python",
   "nbconvert_exporter": "python",
   "pygments_lexer": "ipython3",
   "version": "3.7.6"
  }
 },
 "nbformat": 4,
 "nbformat_minor": 4
}
